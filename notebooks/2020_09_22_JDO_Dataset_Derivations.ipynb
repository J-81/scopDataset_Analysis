{
 "cells": [
  {
   "cell_type": "markdown",
   "metadata": {},
   "source": [
    "# Determine Proteins in Datasets\n",
    "- Result: Completed this goal with no issue.  List of pdb chain IDs added to data folder."
   ]
  },
  {
   "cell_type": "code",
   "execution_count": 16,
   "metadata": {},
   "outputs": [],
   "source": [
    "## Decompress\n",
    "from zipfile import ZipFile\n",
    "\n",
    "archive_dir = \"../data/external\"\n",
    "\n",
    "compressed_folder = \"../data/external/2019_08_16_Charles_Data.zip\"\n",
    "with ZipFile(compressed_folder) as myzip:\n",
    "    myzip.extractall(archive_dir)"
   ]
  },
  {
   "cell_type": "code",
   "execution_count": 40,
   "metadata": {},
   "outputs": [],
   "source": [
    "from pathlib import Path\n",
    "import pandas as pd\n",
    "\n",
    "p = Path(archive_dir, \"Summer2019/0530-0619/[External]_Re__Test_Set_Data/learn-uniprot-v4-sa.csv\")"
   ]
  },
  {
   "cell_type": "code",
   "execution_count": 41,
   "metadata": {},
   "outputs": [],
   "source": [
    "# open file and extract chain names\n",
    "df = pd.read_csv(p)\n",
    "AT_chains = df[\"Chain\"].unique()"
   ]
  },
  {
   "cell_type": "code",
   "execution_count": 42,
   "metadata": {},
   "outputs": [],
   "source": [
    "# write to file\n",
    "data_interim_path = \"../data/interim\"\n",
    "\n",
    "with open(Path(data_interim_path, \"AT_set_ids.txt\"), \"w\") as f:\n",
    "    [f.write(chain+\"\\n\") for chain in AT_chains]"
   ]
  },
  {
   "cell_type": "code",
   "execution_count": 43,
   "metadata": {},
   "outputs": [],
   "source": [
    "# repeat with test set (speg)\n",
    "p = Path(archive_dir, \"Summer2019/0530-0619/[External]_Re__Test_Set_Data/test-uniprot-v4-sa.csv\")\n",
    "\n",
    "# open file and extract chain names\n",
    "df = pd.read_csv(p)\n",
    "AT_chains = df[\"Chain\"].unique()\n",
    "\n",
    "# write to file\n",
    "data_interim_path = \"../data/interim\"\n",
    "\n",
    "with open(Path(data_interim_path, \"SPEG_set_ids.txt\"), \"w\") as f:\n",
    "    [f.write(chain+\"\\n\") for chain in AT_chains]"
   ]
  },
  {
   "cell_type": "code",
   "execution_count": null,
   "metadata": {},
   "outputs": [],
   "source": []
  }
 ],
 "metadata": {
  "kernelspec": {
   "display_name": "Python 3",
   "language": "python",
   "name": "python3"
  },
  "language_info": {
   "codemirror_mode": {
    "name": "ipython",
    "version": 3
   },
   "file_extension": ".py",
   "mimetype": "text/x-python",
   "name": "python",
   "nbconvert_exporter": "python",
   "pygments_lexer": "ipython3",
   "version": "3.7.4"
  }
 },
 "nbformat": 4,
 "nbformat_minor": 4
}
